{
 "cells": [
  {
   "cell_type": "code",
   "execution_count": 17,
   "metadata": {
    "colab": {},
    "colab_type": "code",
    "id": "mbg9-QT7U_18"
   },
   "outputs": [],
   "source": [
    "%matplotlib inline\n",
    "from matplotlib import pyplot as plt\n",
    "import pandas as pd\n",
    "import numpy as np\n",
    "import seaborn as sns"
   ]
  },
  {
   "cell_type": "code",
   "execution_count": 18,
   "metadata": {
    "colab": {},
    "colab_type": "code",
    "id": "McKaZFleU_2E"
   },
   "outputs": [],
   "source": [
    "import sys\n",
    "in_colab = 'google.colab' in sys.modules\n",
    "\n",
    "if in_colab:\n",
    "  BASE_DIR = \"https://github.com/DiploDatos/AnalisisYCuracion/raw/master/\"\n",
    "else:\n",
    "  BASE_DIR = \".\""
   ]
  },
  {
   "cell_type": "code",
   "execution_count": 19,
   "metadata": {
    "colab": {},
    "colab_type": "code",
    "id": "2jI-6ko6U_2J",
    "outputId": "92c82a66-d9fc-4310-a313-30e82f2249c0"
   },
   "outputs": [
    {
     "data": {
      "text/html": [
       "<div>\n",
       "<style scoped>\n",
       "    .dataframe tbody tr th:only-of-type {\n",
       "        vertical-align: middle;\n",
       "    }\n",
       "\n",
       "    .dataframe tbody tr th {\n",
       "        vertical-align: top;\n",
       "    }\n",
       "\n",
       "    .dataframe thead th {\n",
       "        text-align: right;\n",
       "    }\n",
       "</style>\n",
       "<table border=\"1\" class=\"dataframe\">\n",
       "  <thead>\n",
       "    <tr style=\"text-align: right;\">\n",
       "      <th></th>\n",
       "      <th>location</th>\n",
       "      <th>name</th>\n",
       "      <th>province</th>\n",
       "    </tr>\n",
       "  </thead>\n",
       "  <tbody>\n",
       "    <tr>\n",
       "      <th>0</th>\n",
       "      <td>[-54.832543, -68.3712885]</td>\n",
       "      <td>SAN SEBASTIAN  ( USHUAIA )</td>\n",
       "      <td>Tierra del Fuego</td>\n",
       "    </tr>\n",
       "    <tr>\n",
       "      <th>1</th>\n",
       "      <td>[-54.8249379, -68.3258626]</td>\n",
       "      <td>AERO PUBLICO DE USHUAIA</td>\n",
       "      <td>Tierra del Fuego</td>\n",
       "    </tr>\n",
       "    <tr>\n",
       "      <th>2</th>\n",
       "      <td>[-54.8096728, -68.3114748]</td>\n",
       "      <td>PUERTO USHUAIA (PREFECTURA)</td>\n",
       "      <td>Tierra del Fuego</td>\n",
       "    </tr>\n",
       "    <tr>\n",
       "      <th>3</th>\n",
       "      <td>[-54.8019121, -68.3029511]</td>\n",
       "      <td>PUERTO USHUAIA</td>\n",
       "      <td>Tierra del Fuego</td>\n",
       "    </tr>\n",
       "    <tr>\n",
       "      <th>4</th>\n",
       "      <td>[-51.6896359, -72.2993574]</td>\n",
       "      <td>PASO LAURITA CASAS VIEJAS</td>\n",
       "      <td>Santa Cruz</td>\n",
       "    </tr>\n",
       "    <tr>\n",
       "      <th>5</th>\n",
       "      <td>[-51.5866042, -72.3649779]</td>\n",
       "      <td>PASO DOROTEA</td>\n",
       "      <td>Santa Cruz</td>\n",
       "    </tr>\n",
       "    <tr>\n",
       "      <th>6</th>\n",
       "      <td>[-51.2544488, -72.2652242]</td>\n",
       "      <td>PASO RIO DON GUILLERMO</td>\n",
       "      <td>Santa Cruz</td>\n",
       "    </tr>\n",
       "    <tr>\n",
       "      <th>7</th>\n",
       "      <td>[-53.3229179, -68.6063227]</td>\n",
       "      <td>PASO SAN SEBASTIAN</td>\n",
       "      <td>Tierra del Fuego</td>\n",
       "    </tr>\n",
       "    <tr>\n",
       "      <th>8</th>\n",
       "      <td>[-53.78438, -67.7173342]</td>\n",
       "      <td>TERMINAL RIO GRANDE</td>\n",
       "      <td>Tierra del Fuego</td>\n",
       "    </tr>\n",
       "    <tr>\n",
       "      <th>9</th>\n",
       "      <td>[-53.7860374, -67.7002243]</td>\n",
       "      <td>PUERTO RIO GRANDE</td>\n",
       "      <td>Tierra del Fuego</td>\n",
       "    </tr>\n",
       "    <tr>\n",
       "      <th>10</th>\n",
       "      <td>[-52.2527012, -69.8852885]</td>\n",
       "      <td>MONTE AYMOND</td>\n",
       "      <td>Santa Cruz</td>\n",
       "    </tr>\n",
       "    <tr>\n",
       "      <th>11</th>\n",
       "      <td>[-52.1304141, -69.5198778]</td>\n",
       "      <td>INTEGRACION AUSTRAL</td>\n",
       "      <td>Santa Cruz</td>\n",
       "    </tr>\n",
       "    <tr>\n",
       "      <th>12</th>\n",
       "      <td>[-50.283977, -72.0558347]</td>\n",
       "      <td>AERO EL CALAFATE</td>\n",
       "      <td>Santa Cruz</td>\n",
       "    </tr>\n",
       "    <tr>\n",
       "      <th>13</th>\n",
       "      <td>[-52.3274981, -68.3692192]</td>\n",
       "      <td>PASO CABO VIRGENES</td>\n",
       "      <td>Santa Cruz</td>\n",
       "    </tr>\n",
       "    <tr>\n",
       "      <th>14</th>\n",
       "      <td>[-51.6117879, -69.3085038]</td>\n",
       "      <td>AERO RIO GALLEGOS</td>\n",
       "      <td>Santa Cruz</td>\n",
       "    </tr>\n",
       "    <tr>\n",
       "      <th>15</th>\n",
       "      <td>[-51.6117879, -69.3085038]</td>\n",
       "      <td>AERO RIO GALLEGOS</td>\n",
       "      <td>AEROPUERTO INTERNACIONAL PILOTO CIVIL NORBERTO...</td>\n",
       "    </tr>\n",
       "  </tbody>\n",
       "</table>\n",
       "</div>"
      ],
      "text/plain": [
       "                      location                         name  \\\n",
       "0    [-54.832543, -68.3712885]   SAN SEBASTIAN  ( USHUAIA )   \n",
       "1   [-54.8249379, -68.3258626]      AERO PUBLICO DE USHUAIA   \n",
       "2   [-54.8096728, -68.3114748]  PUERTO USHUAIA (PREFECTURA)   \n",
       "3   [-54.8019121, -68.3029511]               PUERTO USHUAIA   \n",
       "4   [-51.6896359, -72.2993574]    PASO LAURITA CASAS VIEJAS   \n",
       "5   [-51.5866042, -72.3649779]                 PASO DOROTEA   \n",
       "6   [-51.2544488, -72.2652242]       PASO RIO DON GUILLERMO   \n",
       "7   [-53.3229179, -68.6063227]           PASO SAN SEBASTIAN   \n",
       "8     [-53.78438, -67.7173342]          TERMINAL RIO GRANDE   \n",
       "9   [-53.7860374, -67.7002243]            PUERTO RIO GRANDE   \n",
       "10  [-52.2527012, -69.8852885]                 MONTE AYMOND   \n",
       "11  [-52.1304141, -69.5198778]          INTEGRACION AUSTRAL   \n",
       "12   [-50.283977, -72.0558347]             AERO EL CALAFATE   \n",
       "13  [-52.3274981, -68.3692192]           PASO CABO VIRGENES   \n",
       "14  [-51.6117879, -69.3085038]            AERO RIO GALLEGOS   \n",
       "15  [-51.6117879, -69.3085038]            AERO RIO GALLEGOS   \n",
       "\n",
       "                                             province  \n",
       "0                                    Tierra del Fuego  \n",
       "1                                    Tierra del Fuego  \n",
       "2                                    Tierra del Fuego  \n",
       "3                                    Tierra del Fuego  \n",
       "4                                          Santa Cruz  \n",
       "5                                          Santa Cruz  \n",
       "6                                          Santa Cruz  \n",
       "7                                    Tierra del Fuego  \n",
       "8                                    Tierra del Fuego  \n",
       "9                                    Tierra del Fuego  \n",
       "10                                         Santa Cruz  \n",
       "11                                         Santa Cruz  \n",
       "12                                         Santa Cruz  \n",
       "13                                         Santa Cruz  \n",
       "14                                         Santa Cruz  \n",
       "15  AEROPUERTO INTERNACIONAL PILOTO CIVIL NORBERTO...  "
      ]
     },
     "execution_count": 19,
     "metadata": {},
     "output_type": "execute_result"
    }
   ],
   "source": [
    "headers = ['location', 'name', 'province']\n",
    "dt = {'location': 'float', 'name':'str', 'province':'str'}\n",
    "\n",
    "tabla = pd.read_json(BASE_DIR + \"/pasos.json\",dtype=dt)\n",
    "tabla.head(16)"
   ]
  },
  {
   "cell_type": "code",
   "execution_count": 20,
   "metadata": {
    "colab": {},
    "colab_type": "code",
    "id": "gBw0MDoPU_2S",
    "outputId": "f3c4710a-d500-4870-d4df-ea1952f85a27"
   },
   "outputs": [
    {
     "data": {
      "text/plain": [
       "location    object\n",
       "name        object\n",
       "province    object\n",
       "dtype: object"
      ]
     },
     "execution_count": 20,
     "metadata": {},
     "output_type": "execute_result"
    }
   ],
   "source": [
    "tabla.dtypes"
   ]
  },
  {
   "cell_type": "markdown",
   "metadata": {},
   "source": [
    "### Número crudo de pasos fronterizos:"
   ]
  },
  {
   "cell_type": "code",
   "execution_count": 21,
   "metadata": {},
   "outputs": [
    {
     "name": "stdout",
     "output_type": "stream",
     "text": [
      "252\n"
     ]
    }
   ],
   "source": [
    "print(tabla.shape[0])"
   ]
  },
  {
   "cell_type": "markdown",
   "metadata": {},
   "source": [
    "Vemos los valores que toma el campo *province*:"
   ]
  },
  {
   "cell_type": "code",
   "execution_count": 22,
   "metadata": {},
   "outputs": [
    {
     "data": {
      "text/plain": [
       "array(['Tierra del Fuego', 'Santa Cruz',\n",
       "       'AEROPUERTO INTERNACIONAL PILOTO CIVIL NORBERTO FERNANDEZ',\n",
       "       'Chubut', 'Rio Negro', 'Neuquen', 'NEUQUEN', 'Buenos Aires',\n",
       "       'Mendoza', 'San Luis', 'San Juan', 'Santa Fe', 'Córdoba',\n",
       "       'Cordoba', 'Entre Rios', 'La Rioja', 'Corrientes', 'Catamarca',\n",
       "       'Santiago del Estero', 'Tucuman', 'Chaco', 'Misiones', 'Formosa',\n",
       "       'Salta', 'Jujuy'], dtype=object)"
      ]
     },
     "execution_count": 22,
     "metadata": {},
     "output_type": "execute_result"
    }
   ],
   "source": [
    "tabla['province'].unique()"
   ]
  },
  {
   "cell_type": "markdown",
   "metadata": {},
   "source": [
    "Vemos que hay un valor que está mal cargado, *AEROPUERTO INTERNACIONAL PILOTO CIVIL NORBERTO FERNANDEZ* debe ser *Santa Cruz*. Se debe uniformizar *Neuquen* con *NEUQUEN*, y *Córdoba* con *Cordoba*."
   ]
  },
  {
   "cell_type": "code",
   "execution_count": 23,
   "metadata": {},
   "outputs": [],
   "source": [
    "tabla.replace('Córdoba','Cordoba',inplace=True)\n",
    "tabla.replace('AEROPUERTO INTERNACIONAL PILOTO CIVIL NORBERTO FERNANDEZ','Santa Cruz',inplace=True)\n",
    "tabla.replace('NEUQUEN','Neuquen',inplace=True)"
   ]
  },
  {
   "cell_type": "code",
   "execution_count": 24,
   "metadata": {},
   "outputs": [
    {
     "name": "stdout",
     "output_type": "stream",
     "text": [
      "['Tierra del Fuego' 'Santa Cruz' 'Chubut' 'Rio Negro' 'Neuquen'\n",
      " 'Buenos Aires' 'Mendoza' 'San Luis' 'San Juan' 'Santa Fe' 'Cordoba'\n",
      " 'Entre Rios' 'La Rioja' 'Corrientes' 'Catamarca' 'Santiago del Estero'\n",
      " 'Tucuman' 'Chaco' 'Misiones' 'Formosa' 'Salta' 'Jujuy']\n"
     ]
    }
   ],
   "source": [
    "provincias = tabla['province'].unique()\n",
    "print(provincias)"
   ]
  },
  {
   "cell_type": "markdown",
   "metadata": {},
   "source": [
    "De una inspección visual vemos que hay pasos fronterizos con igual locación y/o repetidos, por lo cual limpiamos las repeticiones."
   ]
  },
  {
   "cell_type": "code",
   "execution_count": 25,
   "metadata": {},
   "outputs": [
    {
     "name": "stderr",
     "output_type": "stream",
     "text": [
      "/home/marioagustin/MiniConda/envs/diplodatos/lib/python3.6/site-packages/ipykernel_launcher.py:3: FutureWarning: Method .as_matrix will be removed in a future version. Use .values instead.\n",
      "  This is separate from the ipykernel package so we can avoid doing imports until\n"
     ]
    }
   ],
   "source": [
    "Serie = tabla['location']\n",
    "\n",
    "a = Serie.as_matrix()\n",
    "\n",
    "lon = []\n",
    "lat = []\n",
    "\n",
    "for l in a:\n",
    "    lat.append(l[0])\n",
    "    lon.append(l[1])\n",
    "    \n",
    "lon = pd.Series(np.array(lon),name='longitud')\n",
    "lat = pd.Series(np.array(lat),name='latitud')\n",
    "\n",
    "lon = pd.DataFrame(lon,index=np.arange(252))\n",
    "lat = pd.DataFrame(lat,index=np.arange(252))\n",
    "\n",
    "tabla = tabla.join(lon)\n",
    "tabla = tabla.join(lat)"
   ]
  },
  {
   "cell_type": "code",
   "execution_count": 26,
   "metadata": {},
   "outputs": [],
   "source": [
    "tabla.drop_duplicates(subset=('longitud','latitud'),inplace=True)"
   ]
  },
  {
   "cell_type": "code",
   "execution_count": 27,
   "metadata": {},
   "outputs": [
    {
     "name": "stdout",
     "output_type": "stream",
     "text": [
      "Buenos Aires 42\n"
     ]
    }
   ],
   "source": [
    "provincia = provincias[5]\n",
    "locations = tabla[tabla['province'] == provincia][['latitud', 'longitud']]\n",
    "names = tabla[tabla['province'] == provincia][['name']].values.tolist()\n",
    "locationlist = locations.values.tolist()\n",
    "print(provincia,len(locationlist))"
   ]
  },
  {
   "cell_type": "code",
   "execution_count": 28,
   "metadata": {},
   "outputs": [],
   "source": [
    "#Estas son las modificaciones: Nombre y Provincia\n",
    "\n",
    "lista = [['HUEMULES','Chubut'],\n",
    "['PASO COIHAIQUE','Chubut'],\n",
    "['PTO LIB. GRAL. SAN MARTIN (PF)','Santa Fe'],\n",
    "['LAMADRID - M.S.LEONARDO','Formosa'],\n",
    "['PASO BERNARDO DE IRIGOYEN','Misiones'],\n",
    "['ROU COLONIA','Uruguay'],\n",
    "['BUQUEBUS COLONIA','Uruguay'],\n",
    "['ROU - MONTEVIDEO','Uruguay'],\n",
    "['MONTEVIDEO ROU','Uruguay'],\n",
    "['BUQUEBUS MONTEVIDEO','Uruguay'],\n",
    "['AERO CARRASCO','Uruguay'],\n",
    "['PUERTO IBICUY','Entre Rios'],\n",
    "['TERMINAL PORTUARIA DEL GUAZU','Entre Rios'],\n",
    "['PASO EL AZUFRE','San Juan'],\n",
    "['AERO PASO DE LOS LIBRES','Corrientes'],\n",
    "['PASO EL CONDADO LAS MAMORAS','Salta'],\n",
    "['PUERTO COLON','Entre Rios'],\n",
    "['PUERTO PARANACITO','Entre Rios'],\n",
    "['PASO VALLE HERMOSO','San Juan'],\n",
    "['AERO SANTA ROSA','La Pampa'],\n",
    "['PUERTO ALVEAR','Corrientes'],\n",
    "['PUERTO BARRANQUERAS','Chaco'],\n",
    "['JAMA NORTE','Jujuy'],\n",
    "['GRL BELGRANO - GRL BRUGUEZ','Formosa'],\n",
    "['PTE. SAN IGNACIO DE LOYOLA','Formosa'],\n",
    "['PUERTO LAS PALMAS','Chaco'],\n",
    "['PUERTO CHALANAS','Salta'],\n",
    "['AERO TARTAGAL','Salta'],\n",
    "['SALVADOR MAZZA - YACUIBA','Salta']]\n",
    "\n",
    "for ll in lista:\n",
    "    tabla.loc[tabla['name'] == ll[0],'province'] = ll[1]\n"
   ]
  },
  {
   "cell_type": "markdown",
   "metadata": {},
   "source": [
    "Tierra del Fuego\n",
    "\n",
    "    SAN SEBASTIAN  ( USHUAIA ) -> repetido\n",
    "    TERMINAL RIO GRANDE -> repetido\n",
    "   \n",
    "Santa Cruz\n",
    "\n",
    "    HUEMULES -> Chubut\n",
    "    PASO COIHAIQUE -> Chubut\n",
    "   \n",
    "Chubut\n",
    "\n",
    "    'PTO LIB. GRAL. SAN MARTIN (PF)' -> Santa Fe (según coordenadas), pero parece que está en Misiones\n",
    "    \n",
    "Buenos Aires\n",
    "\n",
    "    'LAMADRID - M.S.LEONARDO' -> Formosa\n",
    "    'PASO BERNARDO DE IRIGOYEN' -> Misiones\n",
    "    'ROU COLONIA' -> Uruguay?\n",
    "    'BUQUEBUS COLONIA' -> Colonia (Uruguay)\n",
    "    'ROU - MONTEVIDEO' -> Uruguay?\n",
    "    'MONTEVIDEO ROU' -> Uruguay?\n",
    "    'BUQUEBUS MONTEVIDEO' -> Uruguay?\n",
    "    'AERO CARRASCO' -> Uruguay?\n",
    "    'PUERTO IBICUY' -> Entre Rios\n",
    "    'TERMINAL PORTUARIA DEL GUAZU' -> Entre Rios\n",
    "    \n",
    "Mendoza\n",
    "\n",
    "    'PASO EL AZUFRE' -> San Juan\n",
    "    'AERO PASO DE LOS LIBRES' -> Corrientes\n",
    "    \n",
    "San Juan\n",
    "\n",
    "    'PASO EL CONDADO LAS MAMORAS' -> Salta\n",
    "    \n",
    "Santa Fe\n",
    "\n",
    "    'PUERTO COLON' -> Entre Rios\n",
    "    'PUERTO PARANACITO' -> Entre Rios\n",
    "    \n",
    "Cordoba\n",
    "\n",
    "    'PASO VALLE HERMOSO' -> San Juan\n",
    "    'AERO SANTA ROSA' -> La Pampa\n",
    "    \n",
    "Entre Rios\n",
    "\n",
    "    'PUERTO ALVEAR' -> Corrientes\n",
    "    \n",
    "Corrientes\n",
    "\n",
    "    'PUERTO BARRANQUERAS' -> Chaco\n",
    "\n",
    "Catamarca\n",
    "\n",
    "    'JAMA NORTE' -> Jujuy\n",
    "    \n",
    "Chaco\n",
    "\n",
    "    'GRL BELGRANO - GRL BRUGUEZ' -> Formosa\n",
    "    \n",
    "Misiones\n",
    "\n",
    "    'PTE. SAN IGNACIO DE LOYOLA' -> Formosa\n",
    "    \n",
    "Formosa\n",
    "\n",
    "    'PUERTO LAS PALMAS' -> Chaco\n",
    "    \n",
    "Jujuy\n",
    "\n",
    "    'PUERTO CHALANAS' -> Salta\n",
    "    'AERO TARTAGAL' -> Salta\n",
    "    'SALVADOR MAZZA - YACUIBA' -> Salta\n",
    "    \n",
    "    "
   ]
  },
  {
   "cell_type": "code",
   "execution_count": 31,
   "metadata": {},
   "outputs": [],
   "source": [
    "#Tiramos los pasos fronterizos de Uruguay\n",
    "\n",
    "indices = tabla.index[tabla[\"province\"] == \"Uruguay\"]\n",
    "tabla = tabla.drop(indices)"
   ]
  },
  {
   "cell_type": "code",
   "execution_count": 32,
   "metadata": {},
   "outputs": [
    {
     "data": {
      "text/html": [
       "<div>\n",
       "<style scoped>\n",
       "    .dataframe tbody tr th:only-of-type {\n",
       "        vertical-align: middle;\n",
       "    }\n",
       "\n",
       "    .dataframe tbody tr th {\n",
       "        vertical-align: top;\n",
       "    }\n",
       "\n",
       "    .dataframe thead th {\n",
       "        text-align: right;\n",
       "    }\n",
       "</style>\n",
       "<table border=\"1\" class=\"dataframe\">\n",
       "  <thead>\n",
       "    <tr style=\"text-align: right;\">\n",
       "      <th></th>\n",
       "      <th>location</th>\n",
       "      <th>name</th>\n",
       "      <th>province</th>\n",
       "      <th>longitud</th>\n",
       "      <th>latitud</th>\n",
       "    </tr>\n",
       "  </thead>\n",
       "  <tbody>\n",
       "    <tr>\n",
       "      <th>0</th>\n",
       "      <td>[-54.832543, -68.3712885]</td>\n",
       "      <td>SAN SEBASTIAN  ( USHUAIA )</td>\n",
       "      <td>Tierra del Fuego</td>\n",
       "      <td>-68.371289</td>\n",
       "      <td>-54.832543</td>\n",
       "    </tr>\n",
       "    <tr>\n",
       "      <th>1</th>\n",
       "      <td>[-54.8249379, -68.3258626]</td>\n",
       "      <td>AERO PUBLICO DE USHUAIA</td>\n",
       "      <td>Tierra del Fuego</td>\n",
       "      <td>-68.325863</td>\n",
       "      <td>-54.824938</td>\n",
       "    </tr>\n",
       "    <tr>\n",
       "      <th>2</th>\n",
       "      <td>[-54.8096728, -68.3114748]</td>\n",
       "      <td>PUERTO USHUAIA (PREFECTURA)</td>\n",
       "      <td>Tierra del Fuego</td>\n",
       "      <td>-68.311475</td>\n",
       "      <td>-54.809673</td>\n",
       "    </tr>\n",
       "    <tr>\n",
       "      <th>3</th>\n",
       "      <td>[-54.8019121, -68.3029511]</td>\n",
       "      <td>PUERTO USHUAIA</td>\n",
       "      <td>Tierra del Fuego</td>\n",
       "      <td>-68.302951</td>\n",
       "      <td>-54.801912</td>\n",
       "    </tr>\n",
       "    <tr>\n",
       "      <th>4</th>\n",
       "      <td>[-51.6896359, -72.2993574]</td>\n",
       "      <td>PASO LAURITA CASAS VIEJAS</td>\n",
       "      <td>Santa Cruz</td>\n",
       "      <td>-72.299357</td>\n",
       "      <td>-51.689636</td>\n",
       "    </tr>\n",
       "  </tbody>\n",
       "</table>\n",
       "</div>"
      ],
      "text/plain": [
       "                     location                         name          province  \\\n",
       "0   [-54.832543, -68.3712885]   SAN SEBASTIAN  ( USHUAIA )  Tierra del Fuego   \n",
       "1  [-54.8249379, -68.3258626]      AERO PUBLICO DE USHUAIA  Tierra del Fuego   \n",
       "2  [-54.8096728, -68.3114748]  PUERTO USHUAIA (PREFECTURA)  Tierra del Fuego   \n",
       "3  [-54.8019121, -68.3029511]               PUERTO USHUAIA  Tierra del Fuego   \n",
       "4  [-51.6896359, -72.2993574]    PASO LAURITA CASAS VIEJAS        Santa Cruz   \n",
       "\n",
       "    longitud    latitud  \n",
       "0 -68.371289 -54.832543  \n",
       "1 -68.325863 -54.824938  \n",
       "2 -68.311475 -54.809673  \n",
       "3 -68.302951 -54.801912  \n",
       "4 -72.299357 -51.689636  "
      ]
     },
     "execution_count": 32,
     "metadata": {},
     "output_type": "execute_result"
    }
   ],
   "source": [
    "tabla.head()"
   ]
  },
  {
   "cell_type": "markdown",
   "metadata": {},
   "source": [
    "### Número limpio de pasos fronterizos:"
   ]
  },
  {
   "cell_type": "code",
   "execution_count": 33,
   "metadata": {},
   "outputs": [
    {
     "name": "stdout",
     "output_type": "stream",
     "text": [
      "212\n"
     ]
    }
   ],
   "source": [
    "print(tabla.shape[0])"
   ]
  },
  {
   "cell_type": "code",
   "execution_count": 38,
   "metadata": {},
   "outputs": [
    {
     "data": {
      "text/plain": [
       "<matplotlib.axes._subplots.AxesSubplot at 0x7f8a37b1e908>"
      ]
     },
     "execution_count": 38,
     "metadata": {},
     "output_type": "execute_result"
    },
    {
     "data": {
      "image/png": "[encoded data removed]",
      "text/plain": [
       "<Figure size 720x720 with 1 Axes>"
      ]
     },
     "metadata": {
      "needs_background": "light"
     },
     "output_type": "display_data"
    }
   ],
   "source": [
    "plt.figure(figsize=(10,10))\n",
    "ax = sns.countplot(y='province',data=tabla,order=tabla[\"province\"].value_counts().index,)\n",
    "ax.set_ylabel(\"Provincia\")"
   ]
  },
  {
   "cell_type": "code",
   "execution_count": null,
   "metadata": {},
   "outputs": [],
   "source": []
  }
 ],
 "metadata": {
  "colab": {
   "name": "Ejercicio-tablas.ipynb",
   "provenance": [],
   "version": "0.3.2"
  },
  "kernelspec": {
   "display_name": "Python 3",
   "language": "python",
   "name": "python3"
  },
  "language_info": {
   "codemirror_mode": {
    "name": "ipython",
    "version": 3
   },
   "file_extension": ".py",
   "mimetype": "text/x-python",
   "name": "python",
   "nbconvert_exporter": "python",
   "pygments_lexer": "ipython3",
   "version": "3.6.8"
  }
 },
 "nbformat": 4,
 "nbformat_minor": 1
}
